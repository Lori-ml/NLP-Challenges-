{
 "cells": [
  {
   "cell_type": "code",
   "execution_count": 1,
   "metadata": {},
   "outputs": [],
   "source": [
    "import pandas as pd\n",
    "import numpy as np\n",
    "import warnings\n",
    "warnings.filterwarnings('ignore')\n",
    "from sklearn.model_selection import train_test_split\n",
    "from sklearn.ensemble import RandomForestClassifier\n",
    "from sklearn import metrics\n",
    "from sklearn.metrics import confusion_matrix\n",
    "import seaborn as sns\n",
    "import matplotlib.pyplot as plt     "
   ]
  },
  {
   "cell_type": "code",
   "execution_count": 5,
   "metadata": {},
   "outputs": [
    {
     "name": "stdout",
     "output_type": "stream",
     "text": [
      "Accuracy of this model is: 0.9474\n"
     ]
    }
   ],
   "source": [
    "df_iris = pd.read_fwf(\"iris.data\" , header=None) \n",
    "\n",
    "df_iris = pd.DataFrame(df_iris[0].str.split(',',5).tolist() , columns = ['sepal length','sepal width' , 'petal length' ,\n",
    "                                                               'petal width' , 'class'])\n",
    "\n",
    "df_X = df_iris[df_iris.columns.tolist()[:-1]]\n",
    "df_Y = df_iris[df_iris.columns.tolist()[-1]]\n",
    "\n",
    "df_X_train, df_X_test, df_y_train, df_y_test  = train_test_split(df_X, df_Y, test_size=0.25)   \n",
    "clf=RandomForestClassifier(n_estimators=70)\n",
    "clf.fit(df_X_train,df_y_train)\n",
    "y_pred = clf.predict(df_X_test)\n",
    "\n",
    "Accuracy = metrics.accuracy_score(df_y_test, y_pred)\n",
    "print(\"Accuracy of this model is: \"+ str(round(Accuracy , 4)))"
   ]
  },
  {
   "cell_type": "code",
   "execution_count": 6,
   "metadata": {},
   "outputs": [
    {
     "data": {
      "text/plain": [
       "array([[14,  0,  0],\n",
       "       [ 0,  9,  1],\n",
       "       [ 0,  1, 13]], dtype=int64)"
      ]
     },
     "execution_count": 6,
     "metadata": {},
     "output_type": "execute_result"
    }
   ],
   "source": [
    "confusion_matrix(df_y_test, y_pred )"
   ]
  },
  {
   "cell_type": "markdown",
   "metadata": {},
   "source": [
    "##### Visualize confusion matrix"
   ]
  },
  {
   "cell_type": "code",
   "execution_count": 7,
   "metadata": {},
   "outputs": [
    {
     "data": {
      "image/png": "[encoded data removed]",
      "text/plain": [
       "<Figure size 432x288 with 2 Axes>"
      ]
     },
     "metadata": {
      "needs_background": "light"
     },
     "output_type": "display_data"
    }
   ],
   "source": [
    "labels = np.unique(df_y_test).tolist()\n",
    "conf_matrix = confusion_matrix(df_y_test, y_pred, labels)\n",
    "ax= plt.subplot()\n",
    "sns.heatmap(conf_matrix, annot=True, ax = ax); \n",
    "\n",
    "ax.set_xlabel('Predicted labels');\n",
    "ax.set_ylabel('True labels'); \n",
    "ax.set_title('Confusion Matrix'); \n",
    "ax.xaxis.set_ticklabels(np.unique(df_y_test).tolist());\n",
    "ax.yaxis.set_ticklabels(np.unique(df_y_test).tolist());"
   ]
  },
  {
   "cell_type": "code",
   "execution_count": 8,
   "metadata": {},
   "outputs": [],
   "source": [
    "with open('metrics.txt', 'w') as f:\n",
    "    print(\"Challenge 2 / Accuracy of this model is: \\n\"+ str(round(Accuracy , 4)) , file=f)\n",
    "    print('Challenge 2 / Confusion matrix is: \\n', + confusion_matrix(df_y_test, y_pred ),  file=f)"
   ]
  },
  {
   "cell_type": "markdown",
   "metadata": {},
   "source": [
    "----------------------------------------------------"
   ]
  },
  {
   "cell_type": "code",
   "execution_count": null,
   "metadata": {},
   "outputs": [],
   "source": []
  }
 ],
 "metadata": {
  "kernelspec": {
   "display_name": "Python 3",
   "language": "python",
   "name": "python3"
  },
  "language_info": {
   "codemirror_mode": {
    "name": "ipython",
    "version": 3
   },
   "file_extension": ".py",
   "mimetype": "text/x-python",
   "name": "python",
   "nbconvert_exporter": "python",
   "pygments_lexer": "ipython3",
   "version": "3.7.6"
  }
 },
 "nbformat": 4,
 "nbformat_minor": 4
}
