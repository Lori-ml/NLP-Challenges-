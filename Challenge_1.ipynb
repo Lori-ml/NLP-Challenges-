{
 "cells": [
  {
   "cell_type": "code",
   "execution_count": 1,
   "metadata": {},
   "outputs": [],
   "source": [
    "import pandas as pd\n",
    "import numpy as np\n",
    "import warnings\n",
    "warnings.filterwarnings('ignore')"
   ]
  },
  {
   "cell_type": "markdown",
   "metadata": {},
   "source": [
    "- The name of each column in sorted order\n",
    "- The total number of rows in the data frame"
   ]
  },
  {
   "cell_type": "code",
   "execution_count": 2,
   "metadata": {},
   "outputs": [
    {
     "name": "stdout",
     "output_type": "stream",
     "text": [
      "Number of rows in dataframe: 21626\n"
     ]
    }
   ],
   "source": [
    "df_NYPD_shooting_inc = pd.read_csv(\"NYPD_Shooting_Incident_Data__Historic_.csv\")\n",
    "col_names_lst_sorted = sorted( df_NYPD_shooting_inc.columns.tolist())\n",
    "\n",
    "nr_of_rows = df_NYPD_shooting_inc.shape[0]\n",
    "print(\"Number of rows in dataframe: \"+str(nr_of_rows))"
   ]
  },
  {
   "cell_type": "code",
   "execution_count": 3,
   "metadata": {},
   "outputs": [],
   "source": [
    "df_NYPD_shooting_inc['X_Y_Cord'] = df_NYPD_shooting_inc['X_COORD_CD']  + ';' + df_NYPD_shooting_inc['Y_COORD_CD']"
   ]
  },
  {
   "cell_type": "code",
   "execution_count": 4,
   "metadata": {},
   "outputs": [],
   "source": [
    "df_NYPD_shooting_inc.to_csv(\"df_NYPD_shooting_inc.csv\")"
   ]
  },
  {
   "cell_type": "markdown",
   "metadata": {},
   "source": [
    "----------------------------------------------------"
   ]
  },
  {
   "cell_type": "code",
   "execution_count": null,
   "metadata": {},
   "outputs": [],
   "source": []
  }
 ],
 "metadata": {
  "kernelspec": {
   "display_name": "Python 3",
   "language": "python",
   "name": "python3"
  },
  "language_info": {
   "codemirror_mode": {
    "name": "ipython",
    "version": 3
   },
   "file_extension": ".py",
   "mimetype": "text/x-python",
   "name": "python",
   "nbconvert_exporter": "python",
   "pygments_lexer": "ipython3",
   "version": "3.7.6"
  }
 },
 "nbformat": 4,
 "nbformat_minor": 4
}
