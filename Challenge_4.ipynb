{
 "cells": [
  {
   "cell_type": "code",
   "execution_count": 3,
   "metadata": {},
   "outputs": [],
   "source": [
    "import wmi\n",
    "import pandas as pd"
   ]
  },
  {
   "cell_type": "code",
   "execution_count": 7,
   "metadata": {},
   "outputs": [],
   "source": [
    "#### call windows management instrumentation package save results into a list and then convert to dataframe\n",
    "\n",
    "c = wmi.WMI()\n",
    "\n",
    "lst_processes = []\n",
    "for process in c.Win32_Process ():\n",
    "    \n",
    "    lst_processes.append({'Process Id': process.ProcessId , \n",
    "              'Process Name': process.Name , \n",
    "              'Memory used by W3SVC':process.WorkingSetSize}) \n",
    "    \n",
    "    \n",
    "    \n",
    "    \n",
    "df_processes = pd.DataFrame(lst_processes)    \n",
    "df_processes.to_csv(\"df_processes.csv\")"
   ]
  },
  {
   "cell_type": "markdown",
   "metadata": {},
   "source": [
    "----------------------------------------------------"
   ]
  }
 ],
 "metadata": {
  "kernelspec": {
   "display_name": "Python 3",
   "language": "python",
   "name": "python3"
  },
  "language_info": {
   "codemirror_mode": {
    "name": "ipython",
    "version": 3
   },
   "file_extension": ".py",
   "mimetype": "text/x-python",
   "name": "python",
   "nbconvert_exporter": "python",
   "pygments_lexer": "ipython3",
   "version": "3.7.6"
  }
 },
 "nbformat": 4,
 "nbformat_minor": 4
}
