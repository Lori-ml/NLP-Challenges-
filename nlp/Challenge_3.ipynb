{
 "cells": [
  {
   "cell_type": "code",
   "execution_count": 6,
   "metadata": {},
   "outputs": [],
   "source": [
    "import pandas as pd\n",
    "import numpy as np\n",
    "import warnings\n",
    "warnings.filterwarnings('ignore')\n",
    "from sklearn.model_selection import train_test_split\n",
    "from sklearn.ensemble import RandomForestClassifier\n",
    "from sklearn import metrics\n",
    "from sklearn.metrics import confusion_matrix\n",
    "import seaborn as sns\n",
    "import matplotlib.pyplot as plt    "
   ]
  },
  {
   "cell_type": "markdown",
   "metadata": {},
   "source": [
    "#####  read the csv for the red wines"
   ]
  },
  {
   "cell_type": "code",
   "execution_count": 7,
   "metadata": {},
   "outputs": [],
   "source": [
    "df_red_wine = pd.read_csv(\"winequality-red.csv\" , header=None ) \n",
    "\n",
    "df_red_wine = pd.DataFrame(df_red_wine[0].str.split(';',12).tolist() )\n",
    "df_red_wine_col_nm = df_red_wine.iloc[0,:].str.replace('\"', '').tolist()\n",
    "Temp_col_nm = df_red_wine.columns\n",
    "Correct_col_nm = df_red_wine_col_nm\n",
    "\n",
    "df_red_wine.rename(columns= dict(zip(Temp_col_nm,Correct_col_nm )) , inplace=True)\n",
    "df_red_wine = df_red_wine.iloc[1:]"
   ]
  },
  {
   "cell_type": "markdown",
   "metadata": {},
   "source": [
    "#####  read the csv for the white wines"
   ]
  },
  {
   "cell_type": "code",
   "execution_count": 4,
   "metadata": {},
   "outputs": [],
   "source": [
    "df_white_wine = pd.read_csv(\"winequality-white.csv\" , header=None ) \n",
    "\n",
    "df_white_wine = pd.DataFrame(df_white_wine[0].str.split(';',12).tolist() )\n",
    "\n",
    "df_white_wine_col_nm = df_white_wine.iloc[0,:].str.replace('\"', '').tolist()\n",
    "Temp_col_nm_1 = df_white_wine.columns\n",
    "Correct_col_nm_1 = df_red_wine_col_nm\n",
    "\n",
    "df_white_wine.rename(columns= dict(zip(Temp_col_nm_1,Correct_col_nm_1 )) , inplace=True)\n",
    "df_white_wine = df_white_wine.iloc[1:]"
   ]
  },
  {
   "cell_type": "markdown",
   "metadata": {},
   "source": [
    "#### prepare the dataset for test and training"
   ]
  },
  {
   "cell_type": "code",
   "execution_count": 5,
   "metadata": {},
   "outputs": [],
   "source": [
    "df_wine_final = pd.concat([df_red_wine,df_white_wine], axis=0)\n",
    "df_X_wine = df_wine_final[df_wine_final.columns.tolist()[:-1]]\n",
    "df_Y_wine = df_wine_final[df_wine_final.columns.tolist()[-1]]"
   ]
  },
  {
   "cell_type": "markdown",
   "metadata": {},
   "source": [
    "#### split data into train and test sets , apply random forest and make prediction"
   ]
  },
  {
   "cell_type": "code",
   "execution_count": 8,
   "metadata": {},
   "outputs": [],
   "source": [
    "df_X_train_wine, df_X_test_wine, df_y_train_wine, df_y_test_wine  = train_test_split(df_X_wine, df_Y_wine, test_size=0.25)   "
   ]
  },
  {
   "cell_type": "code",
   "execution_count": 9,
   "metadata": {},
   "outputs": [
    {
     "data": {
      "text/plain": [
       "RandomForestClassifier(bootstrap=True, ccp_alpha=0.0, class_weight=None,\n",
       "                       criterion='gini', max_depth=None, max_features='auto',\n",
       "                       max_leaf_nodes=None, max_samples=None,\n",
       "                       min_impurity_decrease=0.0, min_impurity_split=None,\n",
       "                       min_samples_leaf=1, min_samples_split=2,\n",
       "                       min_weight_fraction_leaf=0.0, n_estimators=100,\n",
       "                       n_jobs=None, oob_score=False, random_state=None,\n",
       "                       verbose=0, warm_start=False)"
      ]
     },
     "execution_count": 9,
     "metadata": {},
     "output_type": "execute_result"
    }
   ],
   "source": [
    "clf=RandomForestClassifier(n_estimators=100)\n",
    "clf.fit(df_X_train_wine,df_y_train_wine)"
   ]
  },
  {
   "cell_type": "code",
   "execution_count": 10,
   "metadata": {},
   "outputs": [],
   "source": [
    "y_pred_wine = clf.predict(df_X_test_wine)"
   ]
  },
  {
   "cell_type": "markdown",
   "metadata": {},
   "source": [
    "#### calculate mean squared error and mean absolute error"
   ]
  },
  {
   "cell_type": "code",
   "execution_count": 12,
   "metadata": {},
   "outputs": [],
   "source": [
    "mean_sqrd_err = metrics.mean_squared_error(df_y_test_wine, y_pred_wine)\n",
    "mean_abs_err = metrics.mean_absolute_error(df_y_test_wine, y_pred_wine)"
   ]
  },
  {
   "cell_type": "markdown",
   "metadata": {},
   "source": [
    "#### save the results into metrics.txt"
   ]
  },
  {
   "cell_type": "code",
   "execution_count": 13,
   "metadata": {},
   "outputs": [],
   "source": [
    "with open('metrics.txt', 'a') as f:\n",
    "    print(\"Challenge 3 / Mean squared error is: \\n\" + str(round(mean_sqrd_err , 4)) , file=f)\n",
    "    print('Challenge 3 / Mean absolute error is: \\n' + str(round(mean_abs_err , 4)) ,  file=f)"
   ]
  },
  {
   "cell_type": "markdown",
   "metadata": {},
   "source": [
    "----------------------------------------------------"
   ]
  }
 ],
 "metadata": {
  "kernelspec": {
   "display_name": "Python 3",
   "language": "python",
   "name": "python3"
  },
  "language_info": {
   "codemirror_mode": {
    "name": "ipython",
    "version": 3
   },
   "file_extension": ".py",
   "mimetype": "text/x-python",
   "name": "python",
   "nbconvert_exporter": "python",
   "pygments_lexer": "ipython3",
   "version": "3.7.6"
  }
 },
 "nbformat": 4,
 "nbformat_minor": 4
}
